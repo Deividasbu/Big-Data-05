{
 "cells": [
  {
   "cell_type": "markdown",
   "metadata": {},
   "source": [
    "## Big Data Assignment 5 "
   ]
  },
  {
   "cell_type": "markdown",
   "metadata": {},
   "source": [
    "### Data cleaning\n",
    "- Removing entries where speed over ground is zero, missing, or higher than 58\n",
    "- Removing undefined and law enforcement ships\n",
    "- removing helicopters\n",
    "- leaving lenght of MMSI = 9 for Class A and B vessels, length <= 7 for Base stations\n",
    "- leaving only coordinates for the circle of 25 km radius where centre point is (55.225000, 14.245000)\n",
    "- removing duplicates by MMSI and timestamp level\n",
    "- saving cleaned files \n"
   ]
  },
  {
   "cell_type": "code",
   "execution_count": 4,
   "metadata": {},
   "outputs": [
    {
     "name": "stdout",
     "output_type": "stream",
     "text": [
      "Processed and saved data for aisdk-2021-12-01.csv  | rows count = 114294\n",
      "Processed and saved data for aisdk-2021-12-02.csv  | rows count = 118868\n",
      "Processed and saved data for aisdk-2021-12-03.csv  | rows count = 153660\n",
      "Processed and saved data for aisdk-2021-12-04.csv  | rows count = 164851\n",
      "Processed and saved data for aisdk-2021-12-05.csv  | rows count = 130600\n",
      "Processed and saved data for aisdk-2021-12-06.csv  | rows count = 124542\n",
      "Processed and saved data for aisdk-2021-12-07.csv  | rows count = 132056\n",
      "Processed and saved data for aisdk-2021-12-08.csv  | rows count = 124327\n",
      "Processed and saved data for aisdk-2021-12-09.csv  | rows count = 104640\n",
      "Processed and saved data for aisdk-2021-12-10.csv  | rows count = 144854\n",
      "Processed and saved data for aisdk-2021-12-11.csv  | rows count = 147469\n",
      "Processed and saved data for aisdk-2021-12-12.csv  | rows count = 138427\n",
      "Processed and saved data for aisdk-2021-12-13.csv  | rows count = 165177\n",
      "Processed and saved data for aisdk-2021-12-14.csv  | rows count = 113793\n",
      "Processed and saved data for aisdk-2021-12-15.csv  | rows count = 137330\n",
      "Processed and saved data for aisdk-2021-12-16.csv  | rows count = 140328\n",
      "Processed and saved data for aisdk-2021-12-17.csv  | rows count = 151490\n",
      "Processed and saved data for aisdk-2021-12-18.csv  | rows count = 143314\n",
      "Processed and saved data for aisdk-2021-12-19.csv  | rows count = 129126\n",
      "Processed and saved data for aisdk-2021-12-20.csv  | rows count = 116900\n",
      "Processed and saved data for aisdk-2021-12-21.csv  | rows count = 108925\n",
      "Processed and saved data for aisdk-2021-12-22.csv  | rows count = 124441\n",
      "Processed and saved data for aisdk-2021-12-23.csv  | rows count = 131074\n",
      "Processed and saved data for aisdk-2021-12-24.csv  | rows count = 141459\n",
      "Processed and saved data for aisdk-2021-12-25.csv  | rows count = 146148\n",
      "Processed and saved data for aisdk-2021-12-26.csv  | rows count = 116167\n",
      "Processed and saved data for aisdk-2021-12-27.csv  | rows count = 111557\n",
      "Processed and saved data for aisdk-2021-12-28.csv  | rows count = 104137\n",
      "Processed and saved data for aisdk-2021-12-29.csv  | rows count = 108549\n",
      "Processed and saved data for aisdk-2021-12-30.csv  | rows count = 113095\n",
      "Processed and saved data for aisdk-2021-12-31.csv  | rows count = 123537\n"
     ]
    }
   ],
   "source": [
    "from pyspark.sql import SparkSession\n",
    "from pyspark.sql.functions import to_timestamp, col, sin, cos, acos, length, radians, lit, when, first\n",
    "from pyspark.sql.types import DoubleType\n",
    "import os\n",
    "import math\n",
    "\n",
    "spark = SparkSession.builder.appName(\"ShipDataProcessing\").getOrCreate()\n",
    "\n",
    "file_directory = \"C:/Users/User/Desktop/data_folder/raw_data/\"\n",
    "file_names = [f\"aisdk-2021-12-{str(day).zfill(2)}.csv\" for day in range(1, 32)]  # For files from Dec 1 to Dec 31\n",
    "\n",
    "for file_name in file_names:\n",
    "    file_path = os.path.join(file_directory, file_name)\n",
    "    \n",
    "    df = spark.read.csv(file_path, header=True)\n",
    "    \n",
    "    df = df.withColumnRenamed('# Timestamp', 'timestamp')\\\n",
    "           .withColumnRenamed('Latitude', 'lat')\\\n",
    "           .withColumnRenamed('Longitude', 'long')\\\n",
    "           .withColumnRenamed('Navigational status', 'nav_st')\\\n",
    "           .withColumnRenamed('Type of mobile', 'type_of_mobile')\\\n",
    "           .withColumnRenamed('Ship type', 'ship_type')\\\n",
    "           .withColumn('timestamp', to_timestamp(col('timestamp'), 'dd/MM/yyyy HH:mm:ss'))\\\n",
    "           .withColumn('lat', col('lat').cast(DoubleType()))\\\n",
    "           .withColumn('long', col('long').cast(DoubleType()))\\\n",
    "           .withColumn('SOG', col('SOG').cast(DoubleType()))\n",
    "    \n",
    "    df = df.filter(~df['nav_st'].isin(['At anchor', 'Moored', 'Engaged in fishing', 'Unknown value']))\\\n",
    "        .filter(col('SOG').isNotNull())\\\n",
    "        .filter(col('SOG') != 0)\\\n",
    "        .filter(col('SOG') < 58)\\\n",
    "        .filter(col('ship_type') != 'Undefined')\\\n",
    "        .filter(col('ship_type') != 'Law enforcement')\\\n",
    "        .filter(col('type_of_mobile') != 'SAR airborne')\\\n",
    "        .filter(col('MMSI') != 111219507)\n",
    "    \n",
    "    df = df.filter(\n",
    "        (\n",
    "            (col('type_of_mobile') == 'Class A') & (length(col('MMSI')) == 9)\n",
    "        ) | (\n",
    "            (col('type_of_mobile') == 'Class B') & (length(col('MMSI')) == 9)\n",
    "        ) | (\n",
    "            (col('type_of_mobile') == 'Base Station') & (length(col('MMSI')) == 7)\n",
    "        )\n",
    "    ).filter(\n",
    "        (length(col('IMO')) <= 7) | col('IMO').isNull()\n",
    "    )\n",
    "\n",
    "    reduced_df = df.select(\"timestamp\", \"MMSI\", \"lat\", \"long\", \"IMO\", \"type_of_mobile\")\n",
    "    \n",
    "    latitude_center = 55.225000\n",
    "    longitude_center = 14.245000\n",
    "    radius_km = 25\n",
    "\n",
    "    lat_center_rad = math.radians(latitude_center)\n",
    "    long_center_rad = math.radians(longitude_center)\n",
    "\n",
    "    filtered_df = reduced_df.withColumn(\n",
    "    \"distance_km\",\n",
    "    acos(\n",
    "        sin(radians(col(\"lat\"))) * sin(lit(lat_center_rad)) +\n",
    "        cos(radians(col(\"lat\"))) * cos(lit(lat_center_rad)) *\n",
    "        cos(lit(long_center_rad) - radians(col(\"long\")))\n",
    "    ) * 6371  # Earth's radius in km\n",
    "    ).filter(col(\"distance_km\") <= radius_km)\n",
    "\n",
    "    filtered_df = filtered_df.drop(\"distance_km\")\n",
    "\n",
    "    filtered_df = filtered_df.dropDuplicates(['timestamp', 'MMSI'])\n",
    "\n",
    "    output_path = f\"C:/Users/User/Desktop/data_folder/manipulated_data/{file_name.replace('.csv', '')}_processed\"\n",
    "    filtered_df.write.csv(output_path, mode=\"overwrite\", header=True)\n",
    "\n",
    "    print(f\"Processed and saved data for {file_name}  | rows count = {filtered_df.count()}\")\n"
   ]
  },
  {
   "cell_type": "markdown",
   "metadata": {},
   "source": [
    "### Deifining functions for the detection of closest vessels \n",
    "- resampling data to one second\n",
    "- dropping entries where data is missing\n",
    "- removing vessels that report time less frequent than once a minute within 20 minute window\n",
    "- finding closest vessels"
   ]
  },
  {
   "cell_type": "code",
   "execution_count": 5,
   "metadata": {},
   "outputs": [],
   "source": [
    "import pandas as pd\n",
    "import numpy as np\n",
    "import glob\n",
    "from itertools import combinations\n",
    "from pathlib import Path\n",
    "from haversine import haversine  \n",
    "import logging\n",
    "\n",
    "# Setup logging\n",
    "logging.basicConfig(level=logging.INFO, format='%(asctime)s - %(levelname)s - %(message)s')\n",
    "\n",
    "# Constants\n",
    "BASE_DIRECTORY = Path(\"C:/Users/User/Desktop/data_folder/manipulated_data/\")\n",
    "WINDOW_SIZE_MINUTES = 20  # 20 minutes window\n",
    "MIN_REPORTS_PER_MINUTE = 1  # Minimum required frequency of reports\n",
    "\n",
    "def generate_directories(base_directory, year, month):\n",
    "    \"\"\"Generate directory names for each day of a given month.\"\"\"\n",
    "    days_in_month = (Path(f\"{base_directory}/aisdk-{year}-{month:02d}-{day:02d}_processed\") \n",
    "                     for day in range(1, 32))\n",
    "    return [d for d in days_in_month if d.exists()]\n",
    "\n",
    "def read_and_process_csvs(directory):\n",
    "    \"\"\"Read and process CSV files in the given directory.\"\"\"\n",
    "    csv_files = glob.glob(str(directory / \"*.csv\"))\n",
    "    \n",
    "    if not csv_files:\n",
    "        logging.warning(f\"No CSV files found in {directory}\")\n",
    "        return None\n",
    "    \n",
    "    df = pd.concat((pd.read_csv(f, usecols=['timestamp', 'MMSI', 'lat', 'long']) for f in csv_files), ignore_index=True)\n",
    "    \n",
    "    df['timestamp'] = pd.to_datetime(df['timestamp'])\n",
    "    df.set_index('timestamp', inplace=True)\n",
    "    df.sort_index(inplace=True)\n",
    "    \n",
    "    numeric_cols = df.select_dtypes(include=[np.number])\n",
    "    resampled = numeric_cols.groupby('MMSI').resample('1T').mean()\n",
    "\n",
    "    resampled.dropna(inplace=True)\n",
    "    \n",
    "    if 'MMSI' in resampled.columns:\n",
    "            resampled.drop(columns=['MMSI'], inplace=True)\n",
    "\n",
    "    resampled.reset_index(inplace=True)\n",
    "    return resampled\n",
    "\n",
    "def filter_by_reporting_frequency(df, window_size_minutes, min_reports_per_minute):\n",
    "    \"\"\"Filter out data for vessels that report less frequently than the minimum required frequency within each 20-minute window.\"\"\"\n",
    "    window_size_seconds = window_size_minutes * 60\n",
    "    min_reports_in_window = window_size_minutes * min_reports_per_minute\n",
    "\n",
    "    filtered_df = pd.DataFrame()\n",
    "\n",
    "    for mmsi, group in df.groupby('MMSI'):\n",
    "        group = group.sort_values('timestamp')\n",
    "\n",
    "        group['count_in_window'] = group.rolling(f'{window_size_seconds}S', on='timestamp')['timestamp'].count()\n",
    "\n",
    "        consistent_group = group[group['count_in_window'] >= min_reports_in_window]\n",
    "\n",
    "        filtered_df = pd.concat([filtered_df, consistent_group])\n",
    "\n",
    "    filtered_df = filtered_df.drop(columns=['count_in_window'])\n",
    "\n",
    "    return filtered_df\n",
    "\n",
    "def find_closest_vessels(resampled):\n",
    "    \"\"\"Find the closest pair of vessels at each timestamp.\"\"\"\n",
    "    min_distance = float('inf')\n",
    "    closest_pair = None\n",
    "    closest_time = None\n",
    "    collision_coords = None  \n",
    "    \n",
    "    unique_times = resampled['timestamp'].unique()\n",
    "    \n",
    "    for time in unique_times:\n",
    "        subframe = resampled[resampled['timestamp'] == time]\n",
    "        for (idx1, row1), (idx2, row2) in combinations(subframe.iterrows(), 2):\n",
    "            dist = haversine((row1['lat'], row1['long']), (row2['lat'], row2['long']))\n",
    "            if dist < min_distance:\n",
    "                min_distance = dist\n",
    "                closest_pair = (row1['MMSI'], row2['MMSI'])\n",
    "                closest_time = time\n",
    "                collision_coords = (\n",
    "                    (row1['lat'], row1['long']),\n",
    "                    (row2['lat'], row2['long'])\n",
    "                )\n",
    "\n",
    "    return min_distance, closest_pair, closest_time, collision_coords\n",
    "\n",
    "def process_directory(directory):\n",
    "    \"\"\"Process each directory to find the closest vessels.\"\"\"\n",
    "    resampled_data = read_and_process_csvs(directory)\n",
    "    \n",
    "    if resampled_data is not None:\n",
    "        consistent_data = filter_by_reporting_frequency(resampled_data, WINDOW_SIZE_MINUTES, MIN_REPORTS_PER_MINUTE)\n",
    "        \n",
    "        if consistent_data.empty:\n",
    "            logging.info(f\"No consistent data found for directory: {directory}\")\n",
    "            return None\n",
    "        \n",
    "        min_distance, closest_pair, closest_time, collision_coords = find_closest_vessels(consistent_data)\n",
    "        \n",
    "        if min_distance < float('inf'):\n",
    "            print(f\"Closest vessels were {closest_pair} with a distance of {min_distance:.3f} km at {collision_coords} at {closest_time}\")\n",
    "            return min_distance, closest_pair, closest_time, collision_coords\n",
    "        else:\n",
    "            logging.info(f\"No close encounters found for directory: {directory}\")\n",
    "            return None\n",
    "    else:\n",
    "        logging.info(f\"No data processed for directory: {directory}\")\n",
    "        return None"
   ]
  },
  {
   "cell_type": "markdown",
   "metadata": {},
   "source": [
    "### Finding closest vessels"
   ]
  },
  {
   "cell_type": "code",
   "execution_count": 6,
   "metadata": {},
   "outputs": [
    {
     "name": "stderr",
     "output_type": "stream",
     "text": [
      "2024-06-17 00:29:00,016 - INFO - Processing directory: C:\\Users\\User\\Desktop\\data_folder\\manipulated_data\\aisdk-2021-12-01_processed\n",
      "2024-06-17 00:29:06,690 - INFO - Processing directory: C:\\Users\\User\\Desktop\\data_folder\\manipulated_data\\aisdk-2021-12-02_processed\n"
     ]
    },
    {
     "name": "stdout",
     "output_type": "stream",
     "text": [
      "Closest vessels were (219849000, 257737000) with a distance of 0.503 km at ((55.22183666666666, 14.412833), (55.217864666666664, 14.416623)) at 2021-12-01 00:33:00+02:00\n"
     ]
    },
    {
     "name": "stderr",
     "output_type": "stream",
     "text": [
      "2024-06-17 00:29:12,844 - INFO - Processing directory: C:\\Users\\User\\Desktop\\data_folder\\manipulated_data\\aisdk-2021-12-03_processed\n"
     ]
    },
    {
     "name": "stdout",
     "output_type": "stream",
     "text": [
      "Closest vessels were (246542000, 265871000) with a distance of 0.745 km at ((55.26104783333333, 14.343789166666667), (55.25836063636363, 14.354562)) at 2021-12-02 05:55:00+02:00\n"
     ]
    },
    {
     "name": "stderr",
     "output_type": "stream",
     "text": [
      "2024-06-17 00:29:20,720 - INFO - Processing directory: C:\\Users\\User\\Desktop\\data_folder\\manipulated_data\\aisdk-2021-12-04_processed\n"
     ]
    },
    {
     "name": "stdout",
     "output_type": "stream",
     "text": [
      "Closest vessels were (219017081, 566598000) with a distance of 0.373 km at ((55.18642534482758, 14.300980137931035), (55.18950566666667, 14.303323333333333)) at 2021-12-03 17:59:00+02:00\n"
     ]
    },
    {
     "name": "stderr",
     "output_type": "stream",
     "text": [
      "2024-06-17 00:29:29,806 - INFO - Processing directory: C:\\Users\\User\\Desktop\\data_folder\\manipulated_data\\aisdk-2021-12-05_processed\n"
     ]
    },
    {
     "name": "stdout",
     "output_type": "stream",
     "text": [
      "Closest vessels were (245137000, 305067000) with a distance of 0.507 km at ((55.212350333333326, 14.419541), (55.2113832, 14.427351400000001)) at 2021-12-04 06:47:00+02:00\n"
     ]
    },
    {
     "name": "stderr",
     "output_type": "stream",
     "text": [
      "2024-06-17 00:29:36,586 - INFO - Processing directory: C:\\Users\\User\\Desktop\\data_folder\\manipulated_data\\aisdk-2021-12-06_processed\n"
     ]
    },
    {
     "name": "stdout",
     "output_type": "stream",
     "text": [
      "Closest vessels were (246854000, 356579000) with a distance of 0.500 km at ((55.2833226, 14.488123400000001), (55.279638166666665, 14.492651166666667)) at 2021-12-05 09:26:00+02:00\n"
     ]
    },
    {
     "name": "stderr",
     "output_type": "stream",
     "text": [
      "2024-06-17 00:29:43,090 - INFO - Processing directory: C:\\Users\\User\\Desktop\\data_folder\\manipulated_data\\aisdk-2021-12-07_processed\n"
     ]
    },
    {
     "name": "stdout",
     "output_type": "stream",
     "text": [
      "Closest vessels were (273357260, 304833000) with a distance of 0.659 km at ((55.32760216666667, 14.423323166666668), (55.33072845, 14.414464899999999)) at 2021-12-06 02:00:00+02:00\n"
     ]
    },
    {
     "name": "stderr",
     "output_type": "stream",
     "text": [
      "2024-06-17 00:29:49,255 - INFO - Processing directory: C:\\Users\\User\\Desktop\\data_folder\\manipulated_data\\aisdk-2021-12-08_processed\n"
     ]
    },
    {
     "name": "stdout",
     "output_type": "stream",
     "text": [
      "Closest vessels were (209114000, 305210000) with a distance of 0.612 km at ((55.175419, 14.250002666666667), (55.17011349999999, 14.247410666666667)) at 2021-12-07 11:52:00+02:00\n"
     ]
    },
    {
     "name": "stderr",
     "output_type": "stream",
     "text": [
      "2024-06-17 00:29:55,188 - INFO - Processing directory: C:\\Users\\User\\Desktop\\data_folder\\manipulated_data\\aisdk-2021-12-09_processed\n"
     ]
    },
    {
     "name": "stdout",
     "output_type": "stream",
     "text": [
      "Closest vessels were (244234000, 258407000) with a distance of 0.530 km at ((55.23512633333333, 13.917184333333333), (55.2398332, 13.918454)) at 2021-12-08 20:11:00+02:00\n"
     ]
    },
    {
     "name": "stderr",
     "output_type": "stream",
     "text": [
      "2024-06-17 00:30:00,160 - INFO - Processing directory: C:\\Users\\User\\Desktop\\data_folder\\manipulated_data\\aisdk-2021-12-10_processed\n"
     ]
    },
    {
     "name": "stdout",
     "output_type": "stream",
     "text": [
      "Closest vessels were (212787000, 258751000) with a distance of 0.560 km at ((55.316422375, 14.550534125), (55.320397500000006, 14.545106833333334)) at 2021-12-09 16:48:00+02:00\n"
     ]
    },
    {
     "name": "stderr",
     "output_type": "stream",
     "text": [
      "2024-06-17 00:30:07,317 - INFO - Processing directory: C:\\Users\\User\\Desktop\\data_folder\\manipulated_data\\aisdk-2021-12-11_processed\n"
     ]
    },
    {
     "name": "stdout",
     "output_type": "stream",
     "text": [
      "Closest vessels were (304030000, 477151900) with a distance of 0.518 km at ((55.31435083333333, 14.528711666666666), (55.317325000000004, 14.5224087)) at 2021-12-10 13:26:00+02:00\n"
     ]
    },
    {
     "name": "stderr",
     "output_type": "stream",
     "text": [
      "2024-06-17 00:30:14,792 - INFO - Processing directory: C:\\Users\\User\\Desktop\\data_folder\\manipulated_data\\aisdk-2021-12-12_processed\n"
     ]
    },
    {
     "name": "stdout",
     "output_type": "stream",
     "text": [
      "Closest vessels were (211302790, 305662000) with a distance of 0.563 km at ((55.35615466666667, 14.436940333333332), (55.3578855, 14.4285765)) at 2021-12-11 12:16:00+02:00\n"
     ]
    },
    {
     "name": "stderr",
     "output_type": "stream",
     "text": [
      "2024-06-17 00:30:22,328 - INFO - Processing directory: C:\\Users\\User\\Desktop\\data_folder\\manipulated_data\\aisdk-2021-12-13_processed\n"
     ]
    },
    {
     "name": "stdout",
     "output_type": "stream",
     "text": [
      "Closest vessels were (219927000, 245815000) with a distance of 0.387 km at ((55.16149063157895, 14.262324473684211), (55.164969500000005, 14.262011666666666)) at 2021-12-12 08:03:00+02:00\n"
     ]
    },
    {
     "name": "stderr",
     "output_type": "stream",
     "text": [
      "2024-06-17 00:30:30,379 - INFO - Processing directory: C:\\Users\\User\\Desktop\\data_folder\\manipulated_data\\aisdk-2021-12-14_processed\n"
     ]
    },
    {
     "name": "stdout",
     "output_type": "stream",
     "text": [
      "Closest vessels were (219001468, 219019015) with a distance of 0.028 km at ((55.23722216666667, 14.236150333333333), (55.237417384615384, 14.236436461538462)) at 2021-12-13 06:18:00+02:00\n"
     ]
    },
    {
     "name": "stderr",
     "output_type": "stream",
     "text": [
      "2024-06-17 00:30:36,578 - INFO - Processing directory: C:\\Users\\User\\Desktop\\data_folder\\manipulated_data\\aisdk-2021-12-15_processed\n"
     ]
    },
    {
     "name": "stdout",
     "output_type": "stream",
     "text": [
      "Closest vessels were (255806250, 275514000) with a distance of 0.220 km at ((55.17653, 14.3498212), (55.17524483333333, 14.352450333333332)) at 2021-12-14 09:43:00+02:00\n"
     ]
    },
    {
     "name": "stderr",
     "output_type": "stream",
     "text": [
      "2024-06-17 00:30:44,314 - INFO - Processing directory: C:\\Users\\User\\Desktop\\data_folder\\manipulated_data\\aisdk-2021-12-16_processed\n"
     ]
    },
    {
     "name": "stdout",
     "output_type": "stream",
     "text": [
      "Closest vessels were (219017081, 256793000) with a distance of 0.705 km at ((55.14984449999999, 14.351194785714286), (55.1559166, 14.354402200000001)) at 2021-12-15 08:13:00+02:00\n"
     ]
    },
    {
     "name": "stderr",
     "output_type": "stream",
     "text": [
      "2024-06-17 00:30:52,212 - INFO - Processing directory: C:\\Users\\User\\Desktop\\data_folder\\manipulated_data\\aisdk-2021-12-17_processed\n"
     ]
    },
    {
     "name": "stdout",
     "output_type": "stream",
     "text": [
      "Closest vessels were (249575000, 265871000) with a distance of 0.664 km at ((55.276658499999996, 14.342363666666666), (55.2798625, 14.33351675)) at 2021-12-16 06:01:00+02:00\n"
     ]
    },
    {
     "name": "stderr",
     "output_type": "stream",
     "text": [
      "2024-06-17 00:31:01,791 - INFO - Processing directory: C:\\Users\\User\\Desktop\\data_folder\\manipulated_data\\aisdk-2021-12-18_processed\n"
     ]
    },
    {
     "name": "stdout",
     "output_type": "stream",
     "text": [
      "Closest vessels were (245741000, 273339540) with a distance of 0.533 km at ((55.330757500000004, 14.427428333333333), (55.33308916666667, 14.420068166666667)) at 2021-12-17 01:52:00+02:00\n"
     ]
    },
    {
     "name": "stderr",
     "output_type": "stream",
     "text": [
      "2024-06-17 00:31:10,020 - INFO - Processing directory: C:\\Users\\User\\Desktop\\data_folder\\manipulated_data\\aisdk-2021-12-19_processed\n"
     ]
    },
    {
     "name": "stdout",
     "output_type": "stream",
     "text": [
      "Closest vessels were (246594000, 266465000) with a distance of 0.325 km at ((55.23985616666667, 13.972589999999999), (55.23693583333333, 13.9728535)) at 2021-12-18 22:23:00+02:00\n"
     ]
    },
    {
     "name": "stderr",
     "output_type": "stream",
     "text": [
      "2024-06-17 00:31:17,163 - INFO - Processing directory: C:\\Users\\User\\Desktop\\data_folder\\manipulated_data\\aisdk-2021-12-20_processed\n"
     ]
    },
    {
     "name": "stdout",
     "output_type": "stream",
     "text": [
      "Closest vessels were (245772000, 356413000) with a distance of 0.603 km at ((55.31366499999999, 14.559590833333333), (55.31773316666667, 14.553300666666667)) at 2021-12-19 23:45:00+02:00\n"
     ]
    },
    {
     "name": "stderr",
     "output_type": "stream",
     "text": [
      "2024-06-17 00:31:23,763 - INFO - Processing directory: C:\\Users\\User\\Desktop\\data_folder\\manipulated_data\\aisdk-2021-12-21_processed\n"
     ]
    },
    {
     "name": "stdout",
     "output_type": "stream",
     "text": [
      "Closest vessels were (245184000, 304146000) with a distance of 0.417 km at ((55.3022735, 14.52825925), (55.2990044, 14.531492600000002)) at 2021-12-20 20:37:00+02:00\n"
     ]
    },
    {
     "name": "stderr",
     "output_type": "stream",
     "text": [
      "2024-06-17 00:31:28,932 - INFO - Processing directory: C:\\Users\\User\\Desktop\\data_folder\\manipulated_data\\aisdk-2021-12-22_processed\n"
     ]
    },
    {
     "name": "stdout",
     "output_type": "stream",
     "text": [
      "Closest vessels were (246724000, 305295000) with a distance of 0.567 km at ((55.183902499999995, 14.354297), (55.186114599999996, 14.346248600000001)) at 2021-12-21 10:57:00+02:00\n"
     ]
    },
    {
     "name": "stderr",
     "output_type": "stream",
     "text": [
      "2024-06-17 00:31:35,199 - INFO - Processing directory: C:\\Users\\User\\Desktop\\data_folder\\manipulated_data\\aisdk-2021-12-23_processed\n"
     ]
    },
    {
     "name": "stdout",
     "output_type": "stream",
     "text": [
      "Closest vessels were (209488000, 266476000) with a distance of 0.633 km at ((55.27236, 14.337533666666667), (55.274180666666666, 14.328072166666667)) at 2021-12-22 08:31:00+02:00\n"
     ]
    },
    {
     "name": "stderr",
     "output_type": "stream",
     "text": [
      "2024-06-17 00:31:41,784 - INFO - Processing directory: C:\\Users\\User\\Desktop\\data_folder\\manipulated_data\\aisdk-2021-12-24_processed\n"
     ]
    },
    {
     "name": "stdout",
     "output_type": "stream",
     "text": [
      "Closest vessels were (219017081, 306139000) with a distance of 0.419 km at ((55.23425365517241, 14.281790793103449), (55.23162042857143, 14.277071857142857)) at 2021-12-23 14:37:00+02:00\n"
     ]
    },
    {
     "name": "stderr",
     "output_type": "stream",
     "text": [
      "2024-06-17 00:31:49,423 - INFO - Processing directory: C:\\Users\\User\\Desktop\\data_folder\\manipulated_data\\aisdk-2021-12-25_processed\n"
     ]
    },
    {
     "name": "stdout",
     "output_type": "stream",
     "text": [
      "Closest vessels were (210434000, 230643000) with a distance of 0.507 km at ((55.178030166666666, 14.202014499999999), (55.17478490909091, 14.20762218181818)) at 2021-12-24 20:49:00+02:00\n"
     ]
    },
    {
     "name": "stderr",
     "output_type": "stream",
     "text": [
      "2024-06-17 00:31:57,174 - INFO - Processing directory: C:\\Users\\User\\Desktop\\data_folder\\manipulated_data\\aisdk-2021-12-26_processed\n"
     ]
    },
    {
     "name": "stdout",
     "output_type": "stream",
     "text": [
      "Closest vessels were (257312000, 273363000) with a distance of 0.457 km at ((55.1671735, 14.0464125), (55.1631112, 14.0452876)) at 2021-12-25 15:51:00+02:00\n"
     ]
    },
    {
     "name": "stderr",
     "output_type": "stream",
     "text": [
      "2024-06-17 00:32:03,605 - INFO - Processing directory: C:\\Users\\User\\Desktop\\data_folder\\manipulated_data\\aisdk-2021-12-27_processed\n"
     ]
    },
    {
     "name": "stdout",
     "output_type": "stream",
     "text": [
      "Closest vessels were (209730000, 636092241) with a distance of 0.621 km at ((55.1161955, 14.2777665), (55.121608333333334, 14.275336166666667)) at 2021-12-26 08:07:00+02:00\n"
     ]
    },
    {
     "name": "stderr",
     "output_type": "stream",
     "text": [
      "2024-06-17 00:32:09,324 - INFO - Processing directory: C:\\Users\\User\\Desktop\\data_folder\\manipulated_data\\aisdk-2021-12-28_processed\n"
     ]
    },
    {
     "name": "stdout",
     "output_type": "stream",
     "text": [
      "Closest vessels were (245180000, 255806303) with a distance of 0.559 km at ((55.184060599999995, 14.202197799999999), (55.187806333333334, 14.196325)) at 2021-12-27 13:18:00+02:00\n"
     ]
    },
    {
     "name": "stderr",
     "output_type": "stream",
     "text": [
      "2024-06-17 00:32:14,680 - INFO - Processing directory: C:\\Users\\User\\Desktop\\data_folder\\manipulated_data\\aisdk-2021-12-29_processed\n"
     ]
    },
    {
     "name": "stdout",
     "output_type": "stream",
     "text": [
      "Closest vessels were (209336000, 210071000) with a distance of 0.689 km at ((55.13827799999999, 14.151192666666667), (55.1351182, 14.141870599999999)) at 2021-12-28 13:42:00+02:00\n"
     ]
    },
    {
     "name": "stderr",
     "output_type": "stream",
     "text": [
      "2024-06-17 00:32:20,720 - INFO - Processing directory: C:\\Users\\User\\Desktop\\data_folder\\manipulated_data\\aisdk-2021-12-30_processed\n"
     ]
    },
    {
     "name": "stdout",
     "output_type": "stream",
     "text": [
      "Closest vessels were (255805693, 275343000) with a distance of 0.665 km at ((55.170308, 14.3726628), (55.17362416666666, 14.3639545)) at 2021-12-29 08:54:00+02:00\n"
     ]
    },
    {
     "name": "stderr",
     "output_type": "stream",
     "text": [
      "2024-06-17 00:32:27,149 - INFO - Processing directory: C:\\Users\\User\\Desktop\\data_folder\\manipulated_data\\aisdk-2021-12-31_processed\n"
     ]
    },
    {
     "name": "stdout",
     "output_type": "stream",
     "text": [
      "Closest vessels were (211881000, 219017081) with a distance of 0.801 km at ((55.21627566666666, 14.275430666666667), (55.223302137931036, 14.278184413793102)) at 2021-12-30 12:11:00+02:00\n",
      "Closest vessels were (229536000, 230695000) with a distance of 0.446 km at ((55.235527166666664, 14.268280166666665), (55.23840475, 14.263373)) at 2021-12-31 09:43:00+02:00\n",
      "------------------------------------------------------------------------------------------------------------------------------------------\n",
      "During the whole month the closest vessels were (219001468, 219019015) with a distance of 0.028 km at ((55.235527166666664, 14.268280166666665), (55.23840475, 14.263373)) at 2021-12-13 06:18:00+02:00\n"
     ]
    }
   ],
   "source": [
    "\n",
    "year = 2021\n",
    "month = 12\n",
    "\n",
    "overall_min_distance = float('inf')\n",
    "overall_closest_pair = None\n",
    "overall_closest_time = None\n",
    "overall_day = None\n",
    "\n",
    "directories = generate_directories(BASE_DIRECTORY, year, month)\n",
    "\n",
    "for directory in directories:\n",
    "    logging.info(f\"Processing directory: {directory}\")\n",
    "    \n",
    "    result = process_directory(directory)\n",
    "    if result is not None:\n",
    "        min_distance, closest_pair, closest_time, collision_coords = result\n",
    "        if min_distance < overall_min_distance:\n",
    "            overall_min_distance = min_distance\n",
    "            overall_closest_pair = closest_pair\n",
    "            overall_closest_time = closest_time\n",
    "            overall_day = directory.name\n",
    "\n",
    "print('------------------------------------------------------------------------------------------------------------------------------------------')\n",
    "print(f\"During the whole month the closest vessels were {overall_closest_pair} with a distance of {overall_min_distance:.3f} km at {collision_coords} at {overall_closest_time}\")"
   ]
  },
  {
   "cell_type": "markdown",
   "metadata": {},
   "source": [
    "### Plotting of the closest vessels"
   ]
  },
  {
   "cell_type": "code",
   "execution_count": 7,
   "metadata": {},
   "outputs": [
    {
     "data": {
      "image/png": "[encoded data removed]",
      "text/plain": [
       "<Figure size 640x480 with 1 Axes>"
      ]
     },
     "metadata": {},
     "output_type": "display_data"
    }
   ],
   "source": [
    "from datetime import datetime, timedelta\n",
    "import matplotlib.pyplot as plt\n",
    "\n",
    "window_size_minutes = 20  # 20 minutes window\n",
    "min_reports_per_minute = 1  # Minimum required frequency of reports\n",
    "\n",
    "window_size_seconds = window_size_minutes * 60\n",
    "min_reports_in_window = window_size_minutes * min_reports_per_minute\n",
    "\n",
    "collision_time_str = \"2021-12-13 06:18:00+02:00\"\n",
    "collision_time = pd.to_datetime(collision_time_str)\n",
    "\n",
    "start_time = collision_time - timedelta(minutes=400)\n",
    "end_time = collision_time\n",
    "\n",
    "path = 'C:/Users/User/Desktop/data_folder/manipulated_data/aisdk-2021-12-13_processed'\n",
    "all_files = glob.glob(path + \"/part*.csv\")\n",
    "mmsi_list = [219001468, 219019015]\n",
    "\n",
    "\n",
    "df = pd.concat((pd.read_csv(f) for f in all_files), ignore_index=True)\n",
    "    \n",
    "df['timestamp'] = pd.to_datetime(df['timestamp'])\n",
    "df = df[df['MMSI'].isin(mmsi_list)]\n",
    "df.set_index('timestamp', inplace=True)\n",
    "df.sort_index(inplace=True)\n",
    "\n",
    "numeric_cols = df.select_dtypes(include=[np.number])\n",
    "resampled = numeric_cols.groupby('MMSI').resample('1T').mean()\n",
    "resampled.dropna(inplace=True)\n",
    "\n",
    "if 'MMSI' in resampled.columns:\n",
    "        resampled.drop(columns=['MMSI'], inplace=True)\n",
    "\n",
    "resampled.reset_index(inplace=True)\n",
    "\n",
    "filtered_df = pd.DataFrame()\n",
    "\n",
    "for mmsi, group in resampled.groupby('MMSI'):\n",
    "    group = group.sort_values('timestamp')\n",
    "    group['count_in_window'] = group.rolling(f'{window_size_seconds}S', on='timestamp')['timestamp'].count()\n",
    "    consistent_group = group[group['count_in_window'] >= min_reports_in_window]\n",
    "    filtered_df = pd.concat([filtered_df, consistent_group])\n",
    "    filtered_df = filtered_df.drop(columns=['count_in_window'])\n",
    "\n",
    "filtered_df = resampled[(resampled['timestamp'] >= start_time) & (resampled['timestamp'] <= end_time)]\n",
    "\n",
    "for mmsi in mmsi_list:\n",
    "    mmsi_df = filtered_df[filtered_df['MMSI'] == mmsi].sort_values(by='timestamp')\n",
    "    plt.plot(mmsi_df['long'], mmsi_df['lat'], marker='o', label=f'MMSI {mmsi}')\n",
    "\n",
    "plt.title('Ship Trajectories 20 Minutes Before Closest point')\n",
    "plt.xlabel('Longitude')\n",
    "plt.ylabel('Latitude')\n",
    "plt.legend()\n",
    "plt.grid(True)\n",
    "\n",
    "plt.show()"
   ]
  },
  {
   "cell_type": "markdown",
   "metadata": {},
   "source": [
    "### Discussion\n",
    "It was known that the goal of the project was to find two vessels that collided on December 13 th, 2021. However, I did not manage to find them.  \n",
    "For the curiosity I did analyse particularly those two collided vessels and found that their closest point was ~40 meters, which is more that some other vessels in the dataset.   \n",
    "I did not try to write a code such that those two vessels would be printed as a result artificially.   \n",
    "The closest vessels I found are from 13 th day 6 am, which is around 3 hours past collision, and they might be related to the collision. \n"
   ]
  }
 ],
 "metadata": {
  "kernelspec": {
   "display_name": "Python 3",
   "language": "python",
   "name": "python3"
  },
  "language_info": {
   "codemirror_mode": {
    "name": "ipython",
    "version": 3
   },
   "file_extension": ".py",
   "mimetype": "text/x-python",
   "name": "python",
   "nbconvert_exporter": "python",
   "pygments_lexer": "ipython3",
   "version": "3.8.10"
  }
 },
 "nbformat": 4,
 "nbformat_minor": 2
}
